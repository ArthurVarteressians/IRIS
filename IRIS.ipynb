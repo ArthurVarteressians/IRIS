{
  "nbformat": 4,
  "nbformat_minor": 0,
  "metadata": {
    "colab": {
      "name": "IRIS",
      "provenance": [],
      "collapsed_sections": [],
      "authorship_tag": "ABX9TyMoxwr+eznIW4LIK2CCMTED",
      "include_colab_link": true
    },
    "kernelspec": {
      "name": "python3",
      "display_name": "Python 3"
    }
  },
  "cells": [
    {
      "cell_type": "markdown",
      "metadata": {
        "id": "view-in-github",
        "colab_type": "text"
      },
      "source": [
        "<a href=\"https://colab.research.google.com/github/ArthurVarteressians/IRIS/blob/master/IRIS.ipynb\" target=\"_parent\"><img src=\"https://colab.research.google.com/assets/colab-badge.svg\" alt=\"Open In Colab\"/></a>"
      ]
    },
    {
      "cell_type": "code",
      "metadata": {
        "id": "Gzk8B9eJK6On"
      },
      "source": [
        "import pandas as pd\n",
        "\n",
        "from sklearn.model_selection import train_test_split\n",
        "from sklearn.preprocessing import OneHotEncoder, StandardScaler\n",
        "from sklearn.metrics import roc_auc_score\n",
        "\n",
        "from torch import nn\n",
        "import torch.optim as optim\n",
        "import torch\n",
        "from torch.utils.data import TensorDataset, DataLoader, Dataset"
      ],
      "execution_count": null,
      "outputs": []
    },
    {
      "cell_type": "code",
      "metadata": {
        "id": "u_vcdJ5vK_ug"
      },
      "source": [
        "data = pd.read_csv(\"https://gist.githubusercontent.com/curran/a08a1080b88344b0c8a7/raw/639388c2cbc2120a14dcf466e85730eb8be498bb/iris.csv\")"
      ],
      "execution_count": null,
      "outputs": []
    },
    {
      "cell_type": "code",
      "metadata": {
        "id": "WMApB_tELGjA",
        "colab": {
          "base_uri": "https://localhost:8080/"
        },
        "outputId": "d76b1b1e-7b54-4e2c-ae0d-b9f9dab7ac86"
      },
      "source": [
        "data.shape"
      ],
      "execution_count": null,
      "outputs": [
        {
          "output_type": "execute_result",
          "data": {
            "text/plain": [
              "(150, 5)"
            ]
          },
          "metadata": {
            "tags": []
          },
          "execution_count": 3
        }
      ]
    },
    {
      "cell_type": "code",
      "metadata": {
        "id": "wMhsLa_aLHV3",
        "colab": {
          "base_uri": "https://localhost:8080/",
          "height": 196
        },
        "outputId": "1115f01e-ab75-4f01-fe4e-85412a7ad8c3"
      },
      "source": [
        "data.head()"
      ],
      "execution_count": null,
      "outputs": [
        {
          "output_type": "execute_result",
          "data": {
            "text/html": [
              "<div>\n",
              "<style scoped>\n",
              "    .dataframe tbody tr th:only-of-type {\n",
              "        vertical-align: middle;\n",
              "    }\n",
              "\n",
              "    .dataframe tbody tr th {\n",
              "        vertical-align: top;\n",
              "    }\n",
              "\n",
              "    .dataframe thead th {\n",
              "        text-align: right;\n",
              "    }\n",
              "</style>\n",
              "<table border=\"1\" class=\"dataframe\">\n",
              "  <thead>\n",
              "    <tr style=\"text-align: right;\">\n",
              "      <th></th>\n",
              "      <th>sepal_length</th>\n",
              "      <th>sepal_width</th>\n",
              "      <th>petal_length</th>\n",
              "      <th>petal_width</th>\n",
              "      <th>species</th>\n",
              "    </tr>\n",
              "  </thead>\n",
              "  <tbody>\n",
              "    <tr>\n",
              "      <th>0</th>\n",
              "      <td>5.1</td>\n",
              "      <td>3.5</td>\n",
              "      <td>1.4</td>\n",
              "      <td>0.2</td>\n",
              "      <td>setosa</td>\n",
              "    </tr>\n",
              "    <tr>\n",
              "      <th>1</th>\n",
              "      <td>4.9</td>\n",
              "      <td>3.0</td>\n",
              "      <td>1.4</td>\n",
              "      <td>0.2</td>\n",
              "      <td>setosa</td>\n",
              "    </tr>\n",
              "    <tr>\n",
              "      <th>2</th>\n",
              "      <td>4.7</td>\n",
              "      <td>3.2</td>\n",
              "      <td>1.3</td>\n",
              "      <td>0.2</td>\n",
              "      <td>setosa</td>\n",
              "    </tr>\n",
              "    <tr>\n",
              "      <th>3</th>\n",
              "      <td>4.6</td>\n",
              "      <td>3.1</td>\n",
              "      <td>1.5</td>\n",
              "      <td>0.2</td>\n",
              "      <td>setosa</td>\n",
              "    </tr>\n",
              "    <tr>\n",
              "      <th>4</th>\n",
              "      <td>5.0</td>\n",
              "      <td>3.6</td>\n",
              "      <td>1.4</td>\n",
              "      <td>0.2</td>\n",
              "      <td>setosa</td>\n",
              "    </tr>\n",
              "  </tbody>\n",
              "</table>\n",
              "</div>"
            ],
            "text/plain": [
              "   sepal_length  sepal_width  petal_length  petal_width species\n",
              "0           5.1          3.5           1.4          0.2  setosa\n",
              "1           4.9          3.0           1.4          0.2  setosa\n",
              "2           4.7          3.2           1.3          0.2  setosa\n",
              "3           4.6          3.1           1.5          0.2  setosa\n",
              "4           5.0          3.6           1.4          0.2  setosa"
            ]
          },
          "metadata": {
            "tags": []
          },
          "execution_count": 4
        }
      ]
    },
    {
      "cell_type": "code",
      "metadata": {
        "id": "NyqxJfDhLaqe"
      },
      "source": [
        "X_train, X_test, y_train, y_test = train_test_split(data.drop([\"species\"], axis = 1).values, data[\"species\"].values, test_size=0.20, random_state=42)"
      ],
      "execution_count": null,
      "outputs": []
    },
    {
      "cell_type": "code",
      "metadata": {
        "id": "aJImj81yqmic"
      },
      "source": [
        "scaler = StandardScaler()\n",
        "scaler.fit(X_train)\n",
        "X_train = scaler.transform(X_train)\n",
        "X_test = scaler.transform(X_test)"
      ],
      "execution_count": null,
      "outputs": []
    },
    {
      "cell_type": "code",
      "metadata": {
        "id": "iyjKFRoVhN5M"
      },
      "source": [
        "X_train = torch.from_numpy(X_train)\n",
        "X_test = torch.from_numpy(X_test)"
      ],
      "execution_count": null,
      "outputs": []
    },
    {
      "cell_type": "code",
      "metadata": {
        "id": "J3yehQlOhRlO"
      },
      "source": [
        "enc = OneHotEncoder(handle_unknown='ignore')\n",
        "enc.fit(y_train.reshape(-1,1))\n",
        "y_train = enc.transform(y_train.reshape(-1, 1)).toarray()\n",
        "y_train = torch.from_numpy(y_train)\n",
        "\n",
        "y_test = enc.transform(y_test.reshape(-1, 1)).toarray()\n",
        "y_test = torch.from_numpy(y_test)"
      ],
      "execution_count": null,
      "outputs": []
    },
    {
      "cell_type": "code",
      "metadata": {
        "id": "lrj9lXAthSF9"
      },
      "source": [
        "dataset_train = TensorDataset(X_train, y_train)\n",
        "train_dataloader = DataLoader(dataset_train, batch_size=24)"
      ],
      "execution_count": null,
      "outputs": []
    },
    {
      "cell_type": "code",
      "metadata": {
        "id": "2PCVU_RVj-nH"
      },
      "source": [
        "dataset_test = TensorDataset(X_test, y_test)\n",
        "test_dataloader = DataLoader(dataset_test, batch_size=24)"
      ],
      "execution_count": null,
      "outputs": []
    },
    {
      "cell_type": "code",
      "metadata": {
        "id": "AbydiTUMMh4Z"
      },
      "source": [
        "model = nn.Sequential(\n",
        "        nn.Linear(4,4),\n",
        "        nn.ReLU(),\n",
        "        nn.Linear(4,3),\n",
        "        nn.LogSoftmax()\n",
        "        )"
      ],
      "execution_count": null,
      "outputs": []
    },
    {
      "cell_type": "code",
      "metadata": {
        "id": "ieEUSpOqRJ5M"
      },
      "source": [
        ""
      ],
      "execution_count": null,
      "outputs": []
    },
    {
      "cell_type": "code",
      "metadata": {
        "id": "uGHqMjdxS3qk"
      },
      "source": [
        "criterion = nn.CrossEntropyLoss()\n",
        "optimizer = optim.SGD(model.parameters(), lr=0.001, momentum=0.9)"
      ],
      "execution_count": null,
      "outputs": []
    },
    {
      "cell_type": "code",
      "metadata": {
        "id": "9DNNjQnvTMy1",
        "colab": {
          "base_uri": "https://localhost:8080/"
        },
        "outputId": "2ffaa3c6-c915-48f3-8d89-4adda9e7c4d8"
      },
      "source": [
        "num_epoch = 200\n",
        "for epoch in range(num_epoch):  # loop over the dataset multiple times\n",
        "\n",
        "    train_loss = 0.0\n",
        "    test_loss = 0.0\n",
        "\n",
        "    for (x0, y0) in train_dataloader:\n",
        "        optimizer.zero_grad()\n",
        "\n",
        "        # forward + backward + optimize\n",
        "        outputs_train = model(x0.float())\n",
        "        loss_train = criterion(outputs_train, torch.max(y0, 1)[1])\n",
        "        loss_train.backward()\n",
        "        optimizer.step()\n",
        "\n",
        "        # print statistics\n",
        "        train_loss += loss_train.item()\n",
        "\n",
        "\n",
        "    with torch.no_grad():\n",
        "        for (x1, y1) in test_dataloader:\n",
        "            outputs_test = model(x1.float())\n",
        "            loss_test = criterion(outputs_test, torch.max(y1, 1)[1])\n",
        "            test_loss += loss_test.item()\n",
        "\n",
        "\n",
        "    print([train_loss, test_loss])\n",
        "\n",
        "print('Finished Training')"
      ],
      "execution_count": null,
      "outputs": [
        {
          "output_type": "stream",
          "text": [
            "/usr/local/lib/python3.6/dist-packages/torch/nn/modules/container.py:117: UserWarning: Implicit dimension choice for log_softmax has been deprecated. Change the call to include dim=X as an argument.\n",
            "  input = module(input)\n"
          ],
          "name": "stderr"
        },
        {
          "output_type": "stream",
          "text": [
            "[5.6259084939956665, 2.3010056018829346]\n",
            "[5.6063233613967896, 2.2870051860809326]\n",
            "[5.574748516082764, 2.268592596054077]\n",
            "[5.53633189201355, 2.247750997543335]\n",
            "[5.494060397148132, 2.2256311178207397]\n",
            "[5.449615240097046, 2.2028759717941284]\n",
            "[5.403919696807861, 2.179830312728882]\n",
            "[5.3574525117874146, 2.156665325164795]\n",
            "[5.310516953468323, 2.1334619522094727]\n",
            "[5.263281941413879, 2.110242009162903]\n",
            "[5.215726256370544, 2.0869970321655273]\n",
            "[5.167974472045898, 2.0636775493621826]\n",
            "[5.119899272918701, 2.040290117263794]\n",
            "[5.071674406528473, 2.0168110132217407]\n",
            "[5.023104012012482, 1.9932024478912354]\n",
            "[4.974039256572723, 1.9695901274681091]\n",
            "[4.924418687820435, 1.9458413124084473]\n",
            "[4.874313116073608, 1.921953558921814]\n",
            "[4.823713302612305, 1.8978821635246277]\n",
            "[4.772643983364105, 1.8736572265625]\n",
            "[4.7210357785224915, 1.849264919757843]\n",
            "[4.668895781040192, 1.8247198462486267]\n",
            "[4.61640739440918, 1.8000611066818237]\n",
            "[4.5635271072387695, 1.775343418121338]\n",
            "[4.510286867618561, 1.7505286931991577]\n",
            "[4.456780731678009, 1.7256293296813965]\n",
            "[4.403086483478546, 1.7006802558898926]\n",
            "[4.349378705024719, 1.6757189631462097]\n",
            "[4.295810878276825, 1.6507843136787415]\n",
            "[4.24254834651947, 1.625907301902771]\n",
            "[4.189688444137573, 1.6011233925819397]\n",
            "[4.137241542339325, 1.5764758586883545]\n",
            "[4.085309684276581, 1.5521621704101562]\n",
            "[4.034068465232849, 1.5281488299369812]\n",
            "[3.9835891127586365, 1.5044156312942505]\n",
            "[3.9339300990104675, 1.4809664487838745]\n",
            "[3.8851423263549805, 1.4578258395195007]\n",
            "[3.837337374687195, 1.4350149035453796]\n",
            "[3.7904884219169617, 1.4125539064407349]\n",
            "[3.744596481323242, 1.3904625177383423]\n",
            "[3.699699819087982, 1.3687597513198853]\n",
            "[3.6559003591537476, 1.3474624156951904]\n",
            "[3.6132118701934814, 1.3266148567199707]\n",
            "[3.5716007351875305, 1.3062347769737244]\n",
            "[3.53103107213974, 1.2862887978553772]\n",
            "[3.4914897680282593, 1.2667593359947205]\n",
            "[3.452856183052063, 1.247642993927002]\n",
            "[3.415259599685669, 1.2289783954620361]\n",
            "[3.3787254691123962, 1.2107610702514648]\n",
            "[3.3432451486587524, 1.1929705142974854]\n",
            "[3.3087743520736694, 1.175595998764038]\n",
            "[3.2752556204795837, 1.1586476564407349]\n",
            "[3.242697060108185, 1.1421150267124176]\n",
            "[3.2110148072242737, 1.1259784400463104]\n",
            "[3.180182695388794, 1.110234946012497]\n",
            "[3.1501901745796204, 1.0948862731456757]\n",
            "[3.120994210243225, 1.079983800649643]\n",
            "[3.0925981402397156, 1.0654856264591217]\n",
            "[3.065049648284912, 1.0513984560966492]\n",
            "[3.038270354270935, 1.0376901924610138]\n",
            "[3.0122525691986084, 1.0243493914604187]\n",
            "[2.9869290590286255, 1.0113657414913177]\n",
            "[2.962269127368927, 0.9987344443798065]\n",
            "[2.9382561445236206, 0.9864440858364105]\n",
            "[2.914850115776062, 0.9744846522808075]\n",
            "[2.8920305371284485, 0.9628479182720184]\n",
            "[2.8697986006736755, 0.9515299201011658]\n",
            "[2.848119556903839, 0.9405567944049835]\n",
            "[2.826984405517578, 0.9298887550830841]\n",
            "[2.8063583374023438, 0.9195105135440826]\n",
            "[2.7862674593925476, 0.9094144701957703]\n",
            "[2.7667723298072815, 0.899593710899353]\n",
            "[2.747757613658905, 0.890039324760437]\n",
            "[2.729193866252899, 0.880742609500885]\n",
            "[2.7110586166381836, 0.8716954588890076]\n",
            "[2.6933332681655884, 0.862890213727951]\n",
            "[2.6760006844997406, 0.8543192148208618]\n",
            "[2.6590459644794464, 0.8459754288196564]\n",
            "[2.6424552500247955, 0.837851494550705]\n",
            "[2.626232087612152, 0.8299427330493927]\n",
            "[2.6103874146938324, 0.8222419321537018]\n",
            "[2.5948906242847443, 0.8147636353969574]\n",
            "[2.579724133014679, 0.8074779212474823]\n",
            "[2.5648996233940125, 0.8003771901130676]\n",
            "[2.5503741204738617, 0.7934562265872955]\n",
            "[2.5361343026161194, 0.7867036461830139]\n",
            "[2.5222091674804688, 0.7800984382629395]\n",
            "[2.5085594058036804, 0.7736541628837585]\n",
            "[2.4951692521572113, 0.7673669755458832]\n",
            "[2.482027232646942, 0.761232316493988]\n",
            "[2.4691236913204193, 0.755245566368103]\n",
            "[2.456449806690216, 0.749401867389679]\n",
            "[2.443997234106064, 0.7436967492103577]\n",
            "[2.431758552789688, 0.7381255030632019]\n",
            "[2.4197265803813934, 0.732683539390564]\n",
            "[2.407894641160965, 0.7273665070533752]\n",
            "[2.3962560296058655, 0.7221701890230179]\n",
            "[2.384804666042328, 0.717090293765068]\n",
            "[2.373534381389618, 0.7121229618787766]\n",
            "[2.3624338507652283, 0.7072624713182449]\n",
            "[2.3514982163906097, 0.7025055140256882]\n",
            "[2.340745061635971, 0.6978489309549332]\n",
            "[2.330170840024948, 0.6932925879955292]\n",
            "[2.319770246744156, 0.6888329237699509]\n",
            "[2.309524565935135, 0.6844658702611923]\n",
            "[2.299427330493927, 0.6801876574754715]\n",
            "[2.289472818374634, 0.6759951561689377]\n",
            "[2.2796566486358643, 0.6718852818012238]\n",
            "[2.269974023103714, 0.6678551733493805]\n",
            "[2.260421633720398, 0.6639020889997482]\n",
            "[2.250995635986328, 0.6600235402584076]\n",
            "[2.24169197678566, 0.6562168747186661]\n",
            "[2.2325160801410675, 0.6524809449911118]\n",
            "[2.2234632074832916, 0.6488167196512222]\n",
            "[2.2145412862300873, 0.6452194899320602]\n",
            "[2.2057359516620636, 0.6416870057582855]\n",
            "[2.197042405605316, 0.6382161229848862]\n",
            "[2.188455045223236, 0.6348045915365219]\n",
            "[2.179977625608444, 0.6314504146575928]\n",
            "[2.1716045439243317, 0.62815161049366]\n",
            "[2.1633302569389343, 0.6249061673879623]\n",
            "[2.155151128768921, 0.6217125207185745]\n",
            "[2.147064834833145, 0.6185687929391861]\n",
            "[2.1390781700611115, 0.6154757887125015]\n",
            "[2.1311891078948975, 0.612431675195694]\n",
            "[2.1233884394168854, 0.6094343513250351]\n",
            "[2.115673393011093, 0.6064815521240234]\n",
            "[2.1080409586429596, 0.6035716086626053]\n",
            "[2.1004887521266937, 0.6007029265165329]\n",
            "[2.093014746904373, 0.5978739857673645]\n",
            "[2.085617423057556, 0.5950839072465897]\n",
            "[2.0782947540283203, 0.592331200838089]\n",
            "[2.0710455775260925, 0.5896149724721909]\n",
            "[2.0638677775859833, 0.5869340747594833]\n",
            "[2.0567606389522552, 0.5842875391244888]\n",
            "[2.049722135066986, 0.5816743671894073]\n",
            "[2.042751133441925, 0.5790937393903732]\n",
            "[2.0358465015888214, 0.5765445977449417]\n",
            "[2.0290066599845886, 0.5740262567996979]\n",
            "[2.022230327129364, 0.5715380162000656]\n",
            "[2.0155167877674103, 0.5690788477659225]\n",
            "[2.0088643431663513, 0.5666481405496597]\n",
            "[2.0022719502449036, 0.5642452090978622]\n",
            "[1.9957387149333954, 0.5618692487478256]\n",
            "[1.9892635345458984, 0.5595196336507797]\n",
            "[1.9828451871871948, 0.5571956634521484]\n",
            "[1.9764827191829681, 0.5548969656229019]\n",
            "[1.9701751470565796, 0.5526226311922073]\n",
            "[1.96392160654068, 0.5503721833229065]\n",
            "[1.9577211141586304, 0.5481452345848083]\n",
            "[1.9515725076198578, 0.545940950512886]\n",
            "[1.9454751312732697, 0.5437590032815933]\n",
            "[1.9394282400608063, 0.541598841547966]\n",
            "[1.933430552482605, 0.5394599139690399]\n",
            "[1.9274815320968628, 0.5373418927192688]\n",
            "[1.9215803742408752, 0.5352442115545273]\n",
            "[1.915726125240326, 0.5331664383411407]\n",
            "[1.9099180996418, 0.5311082005500793]\n",
            "[1.9041613936424255, 0.5290716141462326]\n",
            "[1.8984538316726685, 0.5270555466413498]\n",
            "[1.8927900791168213, 0.525058850646019]\n",
            "[1.8871694207191467, 0.5230808705091476]\n",
            "[1.8815956711769104, 0.5211209505796432]\n",
            "[1.8760680258274078, 0.5191787630319595]\n",
            "[1.8705820143222809, 0.5172536671161652]\n",
            "[1.8651370406150818, 0.515345111489296]\n",
            "[1.8597360253334045, 0.5134529173374176]\n",
            "[1.8543780744075775, 0.5115766376256943]\n",
            "[1.8490596413612366, 0.5097158998250961]\n",
            "[1.843779057264328, 0.5078705549240112]\n",
            "[1.8385359048843384, 0.5060404390096664]\n",
            "[1.8333276808261871, 0.5042252838611603]\n",
            "[1.828154295682907, 0.5024248957633972]\n",
            "[1.823015570640564, 0.5006391853094101]\n",
            "[1.8179111778736115, 0.49886758625507355]\n",
            "[1.8128409087657928, 0.4971098452806473]\n",
            "[1.8078076243400574, 0.49536843597888947]\n",
            "[1.8028062880039215, 0.4936424344778061]\n",
            "[1.7978363037109375, 0.4919307976961136]\n",
            "[1.792899638414383, 0.4902302175760269]\n",
            "[1.7879940271377563, 0.4885410964488983]\n",
            "[1.783119261264801, 0.486863449215889]\n",
            "[1.7782754302024841, 0.4851977527141571]\n",
            "[1.7734646499156952, 0.48354627192020416]\n",
            "[1.768682450056076, 0.48190854489803314]\n",
            "[1.7639287412166595, 0.48028115928173065]\n",
            "[1.7592048048973083, 0.47866399586200714]\n",
            "[1.7545091807842255, 0.47705766558647156]\n",
            "[1.7498442828655243, 0.4754643887281418]\n",
            "[1.7452058494091034, 0.47388386726379395]\n",
            "[1.7405950725078583, 0.472312793135643]\n",
            "[1.7360115051269531, 0.4707511365413666]\n",
            "[1.7314540147781372, 0.4691973626613617]\n",
            "[1.7269258499145508, 0.46765635907649994]\n",
            "[1.722423642873764, 0.4661257117986679]\n",
            "[1.7179481089115143, 0.4646049439907074]\n",
            "[1.713498443365097, 0.46309392154216766]\n",
            "[1.7090739011764526, 0.4615926891565323]\n",
            "[1.7046746015548706, 0.4601011723279953]\n",
            "[1.7002996802330017, 0.45861928164958954]\n",
            "Finished Training\n"
          ],
          "name": "stdout"
        }
      ]
    },
    {
      "cell_type": "code",
      "metadata": {
        "id": "wQ_XPYI7lGA9",
        "colab": {
          "base_uri": "https://localhost:8080/"
        },
        "outputId": "00dd247f-3d8a-44d5-febc-5c04c5aa38fc"
      },
      "source": [
        "pred_train = torch.exp(model(X_train.float()))\n",
        "pred_test = torch.exp(model(X_test.float()))"
      ],
      "execution_count": null,
      "outputs": [
        {
          "output_type": "stream",
          "text": [
            "/usr/local/lib/python3.6/dist-packages/torch/nn/modules/container.py:117: UserWarning: Implicit dimension choice for log_softmax has been deprecated. Change the call to include dim=X as an argument.\n",
            "  input = module(input)\n"
          ],
          "name": "stderr"
        }
      ]
    },
    {
      "cell_type": "code",
      "metadata": {
        "id": "Yk6SBm0JTNDn",
        "colab": {
          "base_uri": "https://localhost:8080/"
        },
        "outputId": "5782f4a3-89cf-4d62-a528-838ffc573ceb"
      },
      "source": [
        "roc_auc_score(y_train.numpy(), pred_train.detach().numpy(), average = None)"
      ],
      "execution_count": null,
      "outputs": [
        {
          "output_type": "execute_result",
          "data": {
            "text/plain": [
              "array([1.        , 0.97036122, 0.97119342])"
            ]
          },
          "metadata": {
            "tags": []
          },
          "execution_count": 19
        }
      ]
    },
    {
      "cell_type": "code",
      "metadata": {
        "id": "3xxP328HTNG5",
        "colab": {
          "base_uri": "https://localhost:8080/"
        },
        "outputId": "7201607b-c53c-43ed-8f73-e4cf4b9169eb"
      },
      "source": [
        "roc_auc_score(y_test.numpy(), pred_test.detach().numpy(), average = None)"
      ],
      "execution_count": null,
      "outputs": [
        {
          "output_type": "execute_result",
          "data": {
            "text/plain": [
              "array([1., 1., 1.])"
            ]
          },
          "metadata": {
            "tags": []
          },
          "execution_count": 20
        }
      ]
    },
    {
      "cell_type": "code",
      "metadata": {
        "id": "qowAAg3vFyfY"
      },
      "source": [
        ""
      ],
      "execution_count": null,
      "outputs": []
    }
  ]
}